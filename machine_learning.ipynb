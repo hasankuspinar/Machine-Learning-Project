{
 "cells": [
  {
   "cell_type": "code",
   "execution_count": 1,
   "metadata": {},
   "outputs": [],
   "source": [
    "import numpy as np\n",
    "import pandas as pd\n",
    "import random\n",
    "import matplotlib.pyplot as plt\n",
    "from sklearn.metrics import accuracy_score\n",
    "import matplotlib.pyplot as plt\n",
    "import seaborn as sns"
   ]
  },
  {
   "cell_type": "code",
   "execution_count": 2,
   "metadata": {},
   "outputs": [
    {
     "data": {
      "text/html": [
       "<div>\n",
       "<style scoped>\n",
       "    .dataframe tbody tr th:only-of-type {\n",
       "        vertical-align: middle;\n",
       "    }\n",
       "\n",
       "    .dataframe tbody tr th {\n",
       "        vertical-align: top;\n",
       "    }\n",
       "\n",
       "    .dataframe thead th {\n",
       "        text-align: right;\n",
       "    }\n",
       "</style>\n",
       "<table border=\"1\" class=\"dataframe\">\n",
       "  <thead>\n",
       "    <tr style=\"text-align: right;\">\n",
       "      <th></th>\n",
       "      <th>x1</th>\n",
       "      <th>x2</th>\n",
       "      <th>x3</th>\n",
       "      <th>x4</th>\n",
       "      <th>x5</th>\n",
       "      <th>x6</th>\n",
       "      <th>x7</th>\n",
       "      <th>x8</th>\n",
       "      <th>x9</th>\n",
       "      <th>x10</th>\n",
       "      <th>y</th>\n",
       "    </tr>\n",
       "  </thead>\n",
       "  <tbody>\n",
       "    <tr>\n",
       "      <th>0</th>\n",
       "      <td>1.205492</td>\n",
       "      <td>5.823226</td>\n",
       "      <td>98.837539</td>\n",
       "      <td>-1.075852</td>\n",
       "      <td>0.999205</td>\n",
       "      <td>0.911543</td>\n",
       "      <td>3.623558</td>\n",
       "      <td>-1.720267</td>\n",
       "      <td>-0.346191</td>\n",
       "      <td>-54.708330</td>\n",
       "      <td>-1</td>\n",
       "    </tr>\n",
       "    <tr>\n",
       "      <th>1</th>\n",
       "      <td>1.391530</td>\n",
       "      <td>3.611581</td>\n",
       "      <td>98.857197</td>\n",
       "      <td>-5.020318</td>\n",
       "      <td>0.677165</td>\n",
       "      <td>0.999492</td>\n",
       "      <td>3.413112</td>\n",
       "      <td>4.253865</td>\n",
       "      <td>2.041603</td>\n",
       "      <td>-54.317291</td>\n",
       "      <td>1</td>\n",
       "    </tr>\n",
       "    <tr>\n",
       "      <th>2</th>\n",
       "      <td>1.692571</td>\n",
       "      <td>-0.887019</td>\n",
       "      <td>100.901276</td>\n",
       "      <td>-0.595548</td>\n",
       "      <td>0.177550</td>\n",
       "      <td>-0.915495</td>\n",
       "      <td>4.320264</td>\n",
       "      <td>0.907834</td>\n",
       "      <td>3.126815</td>\n",
       "      <td>-56.397484</td>\n",
       "      <td>-1</td>\n",
       "    </tr>\n",
       "    <tr>\n",
       "      <th>3</th>\n",
       "      <td>4.289320</td>\n",
       "      <td>1.416843</td>\n",
       "      <td>100.784735</td>\n",
       "      <td>-2.897154</td>\n",
       "      <td>-0.066972</td>\n",
       "      <td>-0.786173</td>\n",
       "      <td>2.093003</td>\n",
       "      <td>1.336237</td>\n",
       "      <td>2.183829</td>\n",
       "      <td>-56.197728</td>\n",
       "      <td>1</td>\n",
       "    </tr>\n",
       "    <tr>\n",
       "      <th>4</th>\n",
       "      <td>0.542420</td>\n",
       "      <td>-1.010095</td>\n",
       "      <td>100.015580</td>\n",
       "      <td>-3.070705</td>\n",
       "      <td>0.088324</td>\n",
       "      <td>-0.242669</td>\n",
       "      <td>0.767942</td>\n",
       "      <td>-0.284683</td>\n",
       "      <td>-2.104145</td>\n",
       "      <td>-55.794045</td>\n",
       "      <td>1</td>\n",
       "    </tr>\n",
       "    <tr>\n",
       "      <th>...</th>\n",
       "      <td>...</td>\n",
       "      <td>...</td>\n",
       "      <td>...</td>\n",
       "      <td>...</td>\n",
       "      <td>...</td>\n",
       "      <td>...</td>\n",
       "      <td>...</td>\n",
       "      <td>...</td>\n",
       "      <td>...</td>\n",
       "      <td>...</td>\n",
       "      <td>...</td>\n",
       "    </tr>\n",
       "    <tr>\n",
       "      <th>9995</th>\n",
       "      <td>0.481134</td>\n",
       "      <td>-0.572225</td>\n",
       "      <td>99.274788</td>\n",
       "      <td>-0.868047</td>\n",
       "      <td>-0.663229</td>\n",
       "      <td>0.572447</td>\n",
       "      <td>5.163238</td>\n",
       "      <td>1.765743</td>\n",
       "      <td>0.720265</td>\n",
       "      <td>-54.952233</td>\n",
       "      <td>-1</td>\n",
       "    </tr>\n",
       "    <tr>\n",
       "      <th>9996</th>\n",
       "      <td>0.047373</td>\n",
       "      <td>0.990198</td>\n",
       "      <td>100.444834</td>\n",
       "      <td>-0.707179</td>\n",
       "      <td>0.912113</td>\n",
       "      <td>-0.510397</td>\n",
       "      <td>1.128577</td>\n",
       "      <td>0.116130</td>\n",
       "      <td>-2.559018</td>\n",
       "      <td>-56.008656</td>\n",
       "      <td>-1</td>\n",
       "    </tr>\n",
       "    <tr>\n",
       "      <th>9997</th>\n",
       "      <td>1.741933</td>\n",
       "      <td>0.036304</td>\n",
       "      <td>100.524071</td>\n",
       "      <td>-0.113742</td>\n",
       "      <td>-0.761337</td>\n",
       "      <td>-0.728295</td>\n",
       "      <td>-1.334732</td>\n",
       "      <td>-1.312760</td>\n",
       "      <td>-0.442573</td>\n",
       "      <td>-56.170876</td>\n",
       "      <td>-1</td>\n",
       "    </tr>\n",
       "    <tr>\n",
       "      <th>9998</th>\n",
       "      <td>2.574986</td>\n",
       "      <td>0.041442</td>\n",
       "      <td>98.983735</td>\n",
       "      <td>-1.937883</td>\n",
       "      <td>0.983004</td>\n",
       "      <td>0.798133</td>\n",
       "      <td>5.847342</td>\n",
       "      <td>0.904038</td>\n",
       "      <td>-1.695064</td>\n",
       "      <td>-54.820699</td>\n",
       "      <td>1</td>\n",
       "    </tr>\n",
       "    <tr>\n",
       "      <th>9999</th>\n",
       "      <td>0.123523</td>\n",
       "      <td>-1.518412</td>\n",
       "      <td>99.159300</td>\n",
       "      <td>-2.024888</td>\n",
       "      <td>0.785601</td>\n",
       "      <td>0.745629</td>\n",
       "      <td>-0.457173</td>\n",
       "      <td>0.408771</td>\n",
       "      <td>-2.163518</td>\n",
       "      <td>-54.806434</td>\n",
       "      <td>1</td>\n",
       "    </tr>\n",
       "  </tbody>\n",
       "</table>\n",
       "<p>10000 rows × 11 columns</p>\n",
       "</div>"
      ],
      "text/plain": [
       "            x1        x2          x3        x4        x5        x6        x7  \\\n",
       "0     1.205492  5.823226   98.837539 -1.075852  0.999205  0.911543  3.623558   \n",
       "1     1.391530  3.611581   98.857197 -5.020318  0.677165  0.999492  3.413112   \n",
       "2     1.692571 -0.887019  100.901276 -0.595548  0.177550 -0.915495  4.320264   \n",
       "3     4.289320  1.416843  100.784735 -2.897154 -0.066972 -0.786173  2.093003   \n",
       "4     0.542420 -1.010095  100.015580 -3.070705  0.088324 -0.242669  0.767942   \n",
       "...        ...       ...         ...       ...       ...       ...       ...   \n",
       "9995  0.481134 -0.572225   99.274788 -0.868047 -0.663229  0.572447  5.163238   \n",
       "9996  0.047373  0.990198  100.444834 -0.707179  0.912113 -0.510397  1.128577   \n",
       "9997  1.741933  0.036304  100.524071 -0.113742 -0.761337 -0.728295 -1.334732   \n",
       "9998  2.574986  0.041442   98.983735 -1.937883  0.983004  0.798133  5.847342   \n",
       "9999  0.123523 -1.518412   99.159300 -2.024888  0.785601  0.745629 -0.457173   \n",
       "\n",
       "            x8        x9        x10  y  \n",
       "0    -1.720267 -0.346191 -54.708330 -1  \n",
       "1     4.253865  2.041603 -54.317291  1  \n",
       "2     0.907834  3.126815 -56.397484 -1  \n",
       "3     1.336237  2.183829 -56.197728  1  \n",
       "4    -0.284683 -2.104145 -55.794045  1  \n",
       "...        ...       ...        ... ..  \n",
       "9995  1.765743  0.720265 -54.952233 -1  \n",
       "9996  0.116130 -2.559018 -56.008656 -1  \n",
       "9997 -1.312760 -0.442573 -56.170876 -1  \n",
       "9998  0.904038 -1.695064 -54.820699  1  \n",
       "9999  0.408771 -2.163518 -54.806434  1  \n",
       "\n",
       "[10000 rows x 11 columns]"
      ]
     },
     "execution_count": 2,
     "metadata": {},
     "output_type": "execute_result"
    }
   ],
   "source": [
    "import pandas as pd\n",
    "\n",
    "file_path = 'your_dataset.csv' \n",
    "data = pd.read_csv(file_path)\n",
    "\n",
    "data\n"
   ]
  },
  {
   "cell_type": "code",
   "execution_count": 3,
   "metadata": {},
   "outputs": [
    {
     "data": {
      "image/png": "[encoded data removed]",
      "text/plain": [
       "<Figure size 1500x1000 with 12 Axes>"
      ]
     },
     "metadata": {},
     "output_type": "display_data"
    }
   ],
   "source": [
    "data.hist(bins=15, figsize=(15, 10))\n",
    "plt.suptitle('Histograms of each feature')\n",
    "plt.show()"
   ]
  },
  {
   "cell_type": "code",
   "execution_count": 4,
   "metadata": {},
   "outputs": [],
   "source": [
    "from sklearn.preprocessing import StandardScaler\n",
    "X = data.drop('y', axis=1)\n",
    "y = data['y']\n",
    "\n",
    "X.fillna(X.mean(), inplace=True)\n",
    "X = (X - X.mean()) / X.std()"
   ]
  },
  {
   "cell_type": "code",
   "execution_count": 5,
   "metadata": {},
   "outputs": [],
   "source": [
    "from sklearn.model_selection import train_test_split \n",
    "\n",
    "X_train, X_test, y_train, y_test = train_test_split(X, y, test_size=0.2, random_state=42)\n"
   ]
  },
  {
   "cell_type": "code",
   "execution_count": 6,
   "metadata": {},
   "outputs": [],
   "source": [
    "def zero_one_loss(y_true,y_pred):\n",
    "    if(y_pred == y_true):\n",
    "        return 0\n",
    "    else:\n",
    "        return 1"
   ]
  },
  {
   "cell_type": "code",
   "execution_count": 7,
   "metadata": {},
   "outputs": [],
   "source": [
    "def error(y_true,y_pred):\n",
    "    y_true = np.array(y_true)\n",
    "    y_pred = np.array(y_pred)\n",
    "    n = len(y_true)\n",
    "    sum = 0\n",
    "    for i in range(n-1):\n",
    "        sum += zero_one_loss(y_true[i], y_pred[i])\n",
    "    return sum/n"
   ]
  },
  {
   "cell_type": "markdown",
   "metadata": {},
   "source": [
    "***SVM Pegasos***"
   ]
  },
  {
   "cell_type": "code",
   "execution_count": 12,
   "metadata": {},
   "outputs": [],
   "source": [
    "class PegasosSVM:\n",
    "    def __init__(self, lambda_, epoch):\n",
    "        self.lambda_ = lambda_\n",
    "        self.epoch = epoch\n",
    "        self.w = None\n",
    "\n",
    "    def fit(self, X, y):\n",
    "        \n",
    "        X = np.asarray(X)\n",
    "        y = np.asarray(y)\n",
    "\n",
    "        m, d = X.shape  \n",
    "        self.w = np.zeros(d)\n",
    "        wt_sum = np.zeros(d)  \n",
    "\n",
    "        for t in range(1, self.epoch + 1):\n",
    "            i = np.random.randint(m)  \n",
    "            x_i, y_i = X[i], y[i]\n",
    "\n",
    "            eta_t = 1 / (self.lambda_ * t)\n",
    "\n",
    "            if y_i * np.dot(self.w, x_i) < 1:\n",
    "                self.w = (1 - eta_t * self.lambda_) * self.w + eta_t * y_i * x_i\n",
    "            else:\n",
    "                self.w = (1 - eta_t * self.lambda_) * self.w\n",
    "\n",
    "            wt_sum += self.w\n",
    "\n",
    "        self.w = wt_sum / self.epoch\n",
    "\n",
    "    def predict(self, X):\n",
    "        return np.sign(np.dot(X, self.w))"
   ]
  },
  {
   "cell_type": "code",
   "execution_count": 77,
   "metadata": {},
   "outputs": [],
   "source": [
    "import itertools\n",
    "from sklearn.model_selection import KFold\n",
    "\n",
    "def cross_validation(param_grid, X, Y, K=5):\n",
    "    \n",
    "    kf = KFold(n_splits=K, shuffle=True, random_state=42)\n",
    "    errors = []\n",
    "    best_params_overall = None\n",
    "    best_error_overall = float('inf')\n",
    "\n",
    "    X = np.array(X)  \n",
    "    Y = np.array(Y)  \n",
    "\n",
    "    for train_index, val_index in kf.split(X):\n",
    "        X_train, X_val = X[train_index], X[val_index]\n",
    "        Y_train, Y_val = Y[train_index], Y[val_index]\n",
    "\n",
    "        best_params_fold = None\n",
    "        best_error_fold = float('inf')\n",
    "\n",
    "        for combination in itertools.product(*param_grid.values()):\n",
    "            params = dict(zip(param_grid.keys(), combination))\n",
    "            model = PegasosSVM(lambda_=params['lambda_'], epoch=params['epoch'])\n",
    "            model.fit(X_train, Y_train)\n",
    "            predictions = model.predict(X_val)\n",
    "            error_ = error(Y_val,predictions)\n",
    "\n",
    "            if error_ < best_error_fold:\n",
    "                best_error_fold = error_\n",
    "                best_params_fold = params\n",
    "\n",
    "        errors.append(best_error_fold)\n",
    "\n",
    "        if best_error_fold < best_error_overall:\n",
    "            best_error_overall = best_error_fold\n",
    "            best_params_overall = best_params_fold\n",
    "\n",
    "    avg_error = np.mean(errors)\n",
    "    return avg_error, best_params_overall"
   ]
  },
  {
   "cell_type": "code",
   "execution_count": 14,
   "metadata": {},
   "outputs": [
    {
     "name": "stdout",
     "output_type": "stream",
     "text": [
      "Average Training Error for SVM pegasos: 0.27025\n",
      "Best Parameters: {'lambda_': 0.01, 'epoch': 10000}\n"
     ]
    }
   ],
   "source": [
    "param_grid = {\n",
    "    'lambda_': [0.0001, 0.001, 0.01, 0.1, 1],\n",
    "    'epoch': [500, 1000, 2000, 5000, 10000]\n",
    "}\n",
    "\n",
    "avg_error, best_params = cross_validation(param_grid, X_train, y_train, K=5)\n",
    "print(\"Average Training Error for SVM pegasos:\", avg_error)\n",
    "print(\"Best Parameters:\", best_params)"
   ]
  },
  {
   "cell_type": "code",
   "execution_count": 15,
   "metadata": {},
   "outputs": [],
   "source": [
    "svm = PegasosSVM(lambda_=0.1, epoch=1000)\n",
    "svm.fit(X_train, y_train)"
   ]
  },
  {
   "cell_type": "code",
   "execution_count": 16,
   "metadata": {},
   "outputs": [
    {
     "name": "stdout",
     "output_type": "stream",
     "text": [
      "The test error for SVM pegasos is:  0.281\n"
     ]
    }
   ],
   "source": [
    "predictions_test = svm.predict(X_test)\n",
    "print(\"The test error for SVM pegasos is: \", error(y_test,predictions_test))"
   ]
  },
  {
   "cell_type": "markdown",
   "metadata": {},
   "source": [
    "***Perceptron***"
   ]
  },
  {
   "cell_type": "code",
   "execution_count": 25,
   "metadata": {},
   "outputs": [],
   "source": [
    "class Perceptron:\n",
    "    def __init__(self, eta=1.0, max_epochs=1000):\n",
    "        self.w = None\n",
    "        self.eta = eta\n",
    "        self.max_epochs = max_epochs\n",
    "\n",
    "    def fit(self, X, y):\n",
    "        X = np.array(X)  \n",
    "        y = np.array(y)\n",
    "        m, n = X.shape\n",
    "        self.w = np.zeros(n + 1)  \n",
    "        \n",
    "        for epoch in range(self.max_epochs):\n",
    "            no_update = True\n",
    "            for t in range(m):\n",
    "                if y[t] * (np.dot(self.w[:-1], X[t]) + self.w[-1]) <= 0:\n",
    "                    self.w[:-1] += self.eta * y[t] * X[t]\n",
    "                    self.w[-1] += self.eta * y[t]\n",
    "                    no_update = False\n",
    "            if no_update:\n",
    "                break\n",
    "\n",
    "    def predict(self, X):\n",
    "        return np.sign(np.dot(X, self.w[:-1]) + self.w[-1])"
   ]
  },
  {
   "cell_type": "code",
   "execution_count": 32,
   "metadata": {},
   "outputs": [],
   "source": [
    "def cross_validate_perceptron(X, y, k=5, eta_values=[1.0], max_epochs_values=[1000]):\n",
    "    kf = KFold(n_splits=k, shuffle=True, random_state=1)\n",
    "    best_score = 0\n",
    "    best_params = {'eta': None, 'max_epochs': None}\n",
    "    X = np.array(X)  \n",
    "    y = np.array(y)\n",
    "    for eta in eta_values:\n",
    "        for max_epochs in max_epochs_values:\n",
    "            scores = []\n",
    "            for train_index, test_index in kf.split(X):\n",
    "                X_train, X_test = X[train_index], X[test_index]\n",
    "                y_train, y_test = y[train_index], y[test_index]\n",
    "\n",
    "                model = Perceptron(eta=eta, max_epochs=max_epochs)\n",
    "                model.fit(X_train, y_train)\n",
    "                y_pred = model.predict(X_test)\n",
    "                score = error(y_test, y_pred)\n",
    "                scores.append(score)\n",
    "\n",
    "            average_score = np.mean(scores)\n",
    "            if average_score > best_score:\n",
    "                best_score = average_score\n",
    "                best_params['eta'] = eta\n",
    "                best_params['max_epochs'] = max_epochs\n",
    "\n",
    "    return average_score, best_params\n"
   ]
  },
  {
   "cell_type": "code",
   "execution_count": 36,
   "metadata": {},
   "outputs": [
    {
     "name": "stdout",
     "output_type": "stream",
     "text": [
      "Average training error: 0.391\n",
      "Best Parameters: {'eta': 0.01, 'max_epochs': 100}\n"
     ]
    }
   ],
   "source": [
    "average_error, best_params = cross_validate_perceptron(X_train, y_train, k=5, eta_values=[0.01, 0.1, 1.0], max_epochs_values=[10, 100])\n",
    "print(\"Average training error:\", average_error)\n",
    "print(\"Best Parameters:\", best_params)\n"
   ]
  },
  {
   "cell_type": "code",
   "execution_count": 37,
   "metadata": {},
   "outputs": [],
   "source": [
    "perceptron = Perceptron(eta=0.01,max_epochs=100)\n",
    "perceptron.fit(X_train, y_train)"
   ]
  },
  {
   "cell_type": "code",
   "execution_count": 38,
   "metadata": {},
   "outputs": [
    {
     "name": "stdout",
     "output_type": "stream",
     "text": [
      "Test Error for the Perceptron:  0.338\n"
     ]
    }
   ],
   "source": [
    "y_preds_test = perceptron.predict(X_test)\n",
    "print(\"Test Error for the Perceptron: \",error(y_test, y_preds_test))"
   ]
  },
  {
   "cell_type": "markdown",
   "metadata": {},
   "source": [
    "***Regularized Logistic Classification***"
   ]
  },
  {
   "cell_type": "code",
   "execution_count": 19,
   "metadata": {},
   "outputs": [],
   "source": [
    "class Logistic_SVM:\n",
    "    def __init__(self, lambda_, epoch):\n",
    "        self.lambda_ = lambda_\n",
    "        self.epoch = epoch\n",
    "        self.w = None\n",
    "\n",
    "    def fit(self, X, y):\n",
    "        \n",
    "        X = np.asarray(X)\n",
    "        y = np.asarray(y)\n",
    "\n",
    "        m, d = X.shape \n",
    "        self.w = np.zeros(d)\n",
    "        wt_sum = np.zeros(d) \n",
    "\n",
    "        for t in range(1, self.epoch + 1):\n",
    "            \n",
    "            i = np.random.randint(m)  \n",
    "            x_i, y_i = X[i], y[i]\n",
    "\n",
    "            eta_t = 1 / (self.lambda_ * t)\n",
    "\n",
    "            sigmoid = 1.0 / (1 + np.exp(y_i * np.dot(self.w, x_i)))\n",
    "            gradient = -y_i * x_i * sigmoid\n",
    "\n",
    "            self.w = (1 - eta_t * self.lambda_) * self.w + eta_t * gradient\n",
    "\n",
    "            wt_sum += self.w\n",
    "\n",
    "        self.w = wt_sum / self.epoch\n",
    "\n",
    "    def predict(self, X):\n",
    "        return np.sign(np.dot(X, self.w))"
   ]
  },
  {
   "cell_type": "code",
   "execution_count": 14,
   "metadata": {},
   "outputs": [],
   "source": [
    "def cross_validation_log(param_grid, X, Y, K=5):\n",
    "    \n",
    "    kf = KFold(n_splits=K, shuffle=True, random_state=42)\n",
    "    errors = []\n",
    "    best_params_overall = None\n",
    "    best_error_overall = float('inf')\n",
    "\n",
    "    X = np.array(X)  \n",
    "    Y = np.array(Y)  \n",
    "\n",
    "    for train_index, val_index in kf.split(X):\n",
    "        X_train, X_val = X[train_index], X[val_index]\n",
    "        Y_train, Y_val = Y[train_index], Y[val_index]\n",
    "\n",
    "        best_params_fold = None\n",
    "        best_error_fold = float('inf')\n",
    "\n",
    "        for combination in itertools.product(*param_grid.values()):\n",
    "            params = dict(zip(param_grid.keys(), combination))\n",
    "            model = Logistic_SVM(lambda_=params['lambda_'], epoch=params['epoch'])\n",
    "            model.fit(X_train, Y_train)\n",
    "            predictions = model.predict(X_val)\n",
    "            error_ = error(Y_val,predictions)\n",
    "\n",
    "            if error_ < best_error_fold:\n",
    "                best_error_fold = error_\n",
    "                best_params_fold = params\n",
    "\n",
    "        errors.append(best_error_fold)\n",
    "\n",
    "        if best_error_fold < best_error_overall:\n",
    "            best_error_overall = best_error_fold\n",
    "            best_params_overall = best_params_fold\n",
    "\n",
    "    avg_error = np.mean(errors)\n",
    "    return avg_error, best_params_overall"
   ]
  },
  {
   "cell_type": "code",
   "execution_count": 24,
   "metadata": {},
   "outputs": [
    {
     "name": "stdout",
     "output_type": "stream",
     "text": [
      "Average Training Error for regularized logistic regression: 0.5315\n",
      "Best Parameters: {'lambda_': 0.01, 'epoch': 500}\n"
     ]
    }
   ],
   "source": [
    "param_grid = {\n",
    "    'lambda_': [0.01, 0.1, 1],\n",
    "    'epoch': [500, 1000, 2000, 5000, 10000]\n",
    "}\n",
    "\n",
    "avg_error, best_params = cross_validation_log(param_grid, X_train, y_train, K=5)\n",
    "print(\"Average Training Error for regularized logistic regression:\", avg_error)\n",
    "print(\"Best Parameters:\", best_params)"
   ]
  },
  {
   "cell_type": "code",
   "execution_count": 25,
   "metadata": {},
   "outputs": [],
   "source": [
    "log_pegasos = Logistic_SVM(lambda_=0.01, epoch=500)\n",
    "log_pegasos.fit(X_train,y_train)"
   ]
  },
  {
   "cell_type": "code",
   "execution_count": 26,
   "metadata": {},
   "outputs": [
    {
     "name": "stdout",
     "output_type": "stream",
     "text": [
      "For regularized logistic regression the test error is:  0.5575\n"
     ]
    }
   ],
   "source": [
    "log_pred_test = log_pegasos.predict(X_test)\n",
    "print(\"For regularized logistic regression the test error is: \", error(y_test,log_pred_test))"
   ]
  },
  {
   "cell_type": "markdown",
   "metadata": {},
   "source": [
    "***Polynomial Feature Expansion***"
   ]
  },
  {
   "cell_type": "code",
   "execution_count": 25,
   "metadata": {},
   "outputs": [],
   "source": [
    "from sklearn.preprocessing import PolynomialFeatures\n",
    "\n",
    "def expand_features(X, degree=2):\n",
    "    poly = PolynomialFeatures(degree)\n",
    "    return poly.fit_transform(X)\n"
   ]
  },
  {
   "cell_type": "code",
   "execution_count": 26,
   "metadata": {},
   "outputs": [],
   "source": [
    "X_expanded = expand_features(X)\n",
    "svm = PegasosSVM(lambda_=0.1, epoch=1000)\n",
    "svm.fit(X_expanded, y)\n"
   ]
  },
  {
   "cell_type": "code",
   "execution_count": 27,
   "metadata": {},
   "outputs": [
    {
     "name": "stdout",
     "output_type": "stream",
     "text": [
      "With poly feature expansion of degree 2 error of pegasos:  0.156\n"
     ]
    }
   ],
   "source": [
    "expand_preds = svm.predict(X_expanded)\n",
    "print(\"With poly feature expansion of degree 2 error of pegasos: \", error(y,expand_preds))"
   ]
  },
  {
   "cell_type": "code",
   "execution_count": 28,
   "metadata": {},
   "outputs": [],
   "source": [
    "perceptron = Perceptron(eta=0.01,max_epochs=100)\n",
    "perceptron.fit(X_expanded, y)"
   ]
  },
  {
   "cell_type": "code",
   "execution_count": 29,
   "metadata": {},
   "outputs": [
    {
     "name": "stdout",
     "output_type": "stream",
     "text": [
      "With poly feature expansion of degree 2 error of perceptron:  0.0819\n"
     ]
    }
   ],
   "source": [
    "p_expand_preds = perceptron.predict(X_expanded)\n",
    "print(\"With poly feature expansion of degree 2 error of perceptron: \", error(y,p_expand_preds))"
   ]
  },
  {
   "cell_type": "code",
   "execution_count": 30,
   "metadata": {},
   "outputs": [],
   "source": [
    "log_pegasos = Logistic_SVM(lambda_=0.1, T=100)\n",
    "log_pegasos.fit(X_expanded,y)"
   ]
  },
  {
   "cell_type": "code",
   "execution_count": 31,
   "metadata": {},
   "outputs": [
    {
     "name": "stdout",
     "output_type": "stream",
     "text": [
      "For regularized logistic regression the training error is:  0.5008\n"
     ]
    }
   ],
   "source": [
    "log_pred_expanded = log_pegasos.predict(X_expanded)\n",
    "print(\"For regularized logistic regression the training error is: \", error(y,log_pred_expanded))"
   ]
  },
  {
   "cell_type": "markdown",
   "metadata": {},
   "source": [
    "***Kernel Perceptron***"
   ]
  },
  {
   "cell_type": "code",
   "execution_count": 8,
   "metadata": {},
   "outputs": [],
   "source": [
    "from numpy import linalg\n",
    "def linear_kernel(x1, x2):\n",
    "    return np.dot(x1, x2)\n",
    "\n",
    "def polynomial_kernel(x, y, p=3):\n",
    "    return (1 + np.dot(x, y)) ** p\n",
    "\n",
    "def gaussian_kernel(x, y, gamma =1.0):\n",
    "    return np.exp(-linalg.norm(x-y)**2.0 / (2 * (gamma)))\n"
   ]
  },
  {
   "cell_type": "code",
   "execution_count": 118,
   "metadata": {},
   "outputs": [],
   "source": [
    "class KernelPerceptron:\n",
    "    def __init__(self, kernel_func):\n",
    "        self.kernel_func = kernel_func\n",
    "        self.support_vectors = []\n",
    "        self.support_labels = []\n",
    "        self.support_alpha = []\n",
    "\n",
    "    def fit(self, X, y):\n",
    "        X = np.array(X)\n",
    "        y = np.array(y)\n",
    "        n_samples = X.shape[0]\n",
    "\n",
    "        for t in range(n_samples):\n",
    "            x_t = X[t]\n",
    "            y_t = y[t]\n",
    "\n",
    "            prediction = 0\n",
    "            for alpha, x_s, y_s in zip(self.support_alpha, self.support_vectors, self.support_labels):\n",
    "                prediction += alpha * y_s * self.kernel_func(x_s, x_t)\n",
    "            \n",
    "            if np.sign(prediction) != y_t:\n",
    "                self.support_vectors.append(x_t)\n",
    "                self.support_labels.append(y_t)\n",
    "                self.support_alpha.append(1)  \n",
    "\n",
    "    def predict(self, X):\n",
    "        X = np.array(X)\n",
    "        y_pred = np.zeros(X.shape[0])\n",
    "        for i, x_t in enumerate(X):\n",
    "            prediction = 0\n",
    "            for alpha, x_s, y_s in zip(self.support_alpha, self.support_vectors, self.support_labels):\n",
    "                prediction += alpha * y_s * self.kernel_func(x_s, x_t)\n",
    "            y_pred[i] = np.sign(prediction)\n",
    "        return y_pred"
   ]
  },
  {
   "cell_type": "code",
   "execution_count": 119,
   "metadata": {},
   "outputs": [],
   "source": [
    "kernelP_G = KernelPerceptron(kernel_func=lambda x,y:gaussian_kernel(x,y,gamma=0.1))\n",
    "kernelP_G.fit(X_train,y_train)"
   ]
  },
  {
   "cell_type": "code",
   "execution_count": 130,
   "metadata": {},
   "outputs": [],
   "source": [
    "gaussian_results_train = kernelP_G.predict(X_train)"
   ]
  },
  {
   "cell_type": "code",
   "execution_count": 132,
   "metadata": {},
   "outputs": [],
   "source": [
    "gaussian_results_test = kernelP_G.predict(X_test)"
   ]
  },
  {
   "cell_type": "code",
   "execution_count": 133,
   "metadata": {},
   "outputs": [
    {
     "name": "stdout",
     "output_type": "stream",
     "text": [
      "For gaussian perceptron the training error is:  0.0685\n"
     ]
    }
   ],
   "source": [
    "error_g_perc_train = error(y_train,gaussian_results_train)\n",
    "print(\"For gaussian perceptron the training error is: \", error_g_perc_train)"
   ]
  },
  {
   "cell_type": "code",
   "execution_count": 134,
   "metadata": {},
   "outputs": [
    {
     "name": "stdout",
     "output_type": "stream",
     "text": [
      "For gaussian perceptron the test error is:  0.192\n"
     ]
    }
   ],
   "source": [
    "error_g_perc_test = error(y_test,gaussian_results_test)\n",
    "print(\"For gaussian perceptron the test error is: \", error_g_perc_test)"
   ]
  },
  {
   "cell_type": "code",
   "execution_count": 135,
   "metadata": {},
   "outputs": [],
   "source": [
    "kernelP_P = KernelPerceptron(kernel_func=lambda x,y:polynomial_kernel(x,y,p=2))\n",
    "kernelP_P.fit(X_train,y_train)"
   ]
  },
  {
   "cell_type": "code",
   "execution_count": 136,
   "metadata": {},
   "outputs": [],
   "source": [
    "polynomial_results_train = kernelP_P.predict(X_train)"
   ]
  },
  {
   "cell_type": "code",
   "execution_count": 137,
   "metadata": {},
   "outputs": [],
   "source": [
    "polynomial_results_test = kernelP_P.predict(X_test)"
   ]
  },
  {
   "cell_type": "code",
   "execution_count": 138,
   "metadata": {},
   "outputs": [
    {
     "name": "stdout",
     "output_type": "stream",
     "text": [
      "For polynomial perceptron the training error is:  0.10525\n"
     ]
    }
   ],
   "source": [
    "error_p_perc_train = error(y_train,polynomial_results_train)\n",
    "print(\"For polynomial perceptron the training error is: \", error_p_perc_train)"
   ]
  },
  {
   "cell_type": "code",
   "execution_count": 139,
   "metadata": {},
   "outputs": [
    {
     "name": "stdout",
     "output_type": "stream",
     "text": [
      "For polynomial perceptron the test error is:  0.109\n"
     ]
    }
   ],
   "source": [
    "error_p_perc_test = error(y_test,polynomial_results_test)\n",
    "print(\"For polynomial perceptron the test error is: \", error_p_perc_test)"
   ]
  },
  {
   "cell_type": "markdown",
   "metadata": {},
   "source": [
    "***Kernel Pegasos***"
   ]
  },
  {
   "cell_type": "code",
   "execution_count": 59,
   "metadata": {},
   "outputs": [],
   "source": [
    "class KernelPegasos:\n",
    "    def __init__(self, kernel, lambda_, epochs):\n",
    "        self.lambda_ = lambda_\n",
    "        self.epochs = epochs\n",
    "        self.kernel = kernel\n",
    "        self.alpha = None\n",
    "        self.X_train = None\n",
    "        self.y_train = None\n",
    "\n",
    "    def fit(self, X, y):\n",
    "        self.X_train = np.array(X)\n",
    "        self.y_train = np.array(y)\n",
    "        m = len(self.X_train)\n",
    "        self.alpha = np.zeros(m)\n",
    "\n",
    "        for t in range(1, self.epochs + 1):\n",
    "            i = np.random.randint(m)\n",
    "            eta_t = 1 / (self.lambda_ * t)\n",
    "            margin = sum(self.alpha[j] * self.y_train[j] * self.kernel(self.X_train[j], self.X_train[i]) for j in range(m))\n",
    "\n",
    "            if self.y_train[i] * margin < 1:\n",
    "                self.alpha[i] += eta_t  \n",
    "\n",
    "    def predict(self, X):\n",
    "        X = np.array(X)\n",
    "        predictions = []\n",
    "        for x in X:\n",
    "            prediction = sum(self.alpha[j] * self.y_train[j] * self.kernel(self.X_train[j], x) for j in range(len(self.X_train)))\n",
    "            predictions.append(np.sign(prediction))\n",
    "        return np.array(predictions)"
   ]
  },
  {
   "cell_type": "code",
   "execution_count": 86,
   "metadata": {},
   "outputs": [],
   "source": [
    "pegasos = KernelPegasos(kernel=lambda x,y:gaussian_kernel(x,y,gamma=0.01),lambda_=0.001, epochs=1000)\n",
    "pegasos.fit(X_train, y_train)"
   ]
  },
  {
   "cell_type": "code",
   "execution_count": 87,
   "metadata": {},
   "outputs": [],
   "source": [
    "gaussian_pegasos_train = pegasos.predict(X_train)"
   ]
  },
  {
   "cell_type": "code",
   "execution_count": 88,
   "metadata": {},
   "outputs": [
    {
     "name": "stdout",
     "output_type": "stream",
     "text": [
      "For gaussian pegasos the training error is:  0.18725\n"
     ]
    }
   ],
   "source": [
    "print(\"For gaussian pegasos the training error is: \", error(gaussian_pegasos_train,y_train))"
   ]
  },
  {
   "cell_type": "code",
   "execution_count": 89,
   "metadata": {},
   "outputs": [],
   "source": [
    "gaussian_pegasos_test = pegasos.predict(X_test)"
   ]
  },
  {
   "cell_type": "code",
   "execution_count": 90,
   "metadata": {},
   "outputs": [
    {
     "name": "stdout",
     "output_type": "stream",
     "text": [
      "For gaussian pegasos the test error is:  0.179\n"
     ]
    }
   ],
   "source": [
    "print(\"For gaussian pegasos the test error is: \", error(gaussian_pegasos_test,y_test))"
   ]
  },
  {
   "cell_type": "code",
   "execution_count": 99,
   "metadata": {},
   "outputs": [],
   "source": [
    "p_pegasos = KernelPegasos(kernel=lambda x,y:polynomial_kernel(x,y,p=4),lambda_=0.001, epochs=10000)\n",
    "p_pegasos.fit(X_train, y_train)"
   ]
  },
  {
   "cell_type": "code",
   "execution_count": 100,
   "metadata": {},
   "outputs": [],
   "source": [
    "polynomial_pegasos_train = p_pegasos.predict(X_train)"
   ]
  },
  {
   "cell_type": "code",
   "execution_count": 101,
   "metadata": {},
   "outputs": [
    {
     "name": "stdout",
     "output_type": "stream",
     "text": [
      "For polynomial pegasos the training error is:  0.274125\n"
     ]
    }
   ],
   "source": [
    "print(\"For polynomial pegasos the training error is: \", error(polynomial_pegasos_train,y_train))"
   ]
  },
  {
   "cell_type": "code",
   "execution_count": 102,
   "metadata": {},
   "outputs": [],
   "source": [
    "polynomial_pegasos_test = p_pegasos.predict(X_test)"
   ]
  },
  {
   "cell_type": "code",
   "execution_count": 103,
   "metadata": {},
   "outputs": [
    {
     "name": "stdout",
     "output_type": "stream",
     "text": [
      "For polynomial pegasos the test error is:  0.2535\n"
     ]
    }
   ],
   "source": [
    "print(\"For polynomial pegasos the test error is: \", error(polynomial_pegasos_test,y_test))"
   ]
  }
 ],
 "metadata": {
  "kernelspec": {
   "display_name": "Python 3",
   "language": "python",
   "name": "python3"
  },
  "language_info": {
   "codemirror_mode": {
    "name": "ipython",
    "version": 3
   },
   "file_extension": ".py",
   "mimetype": "text/x-python",
   "name": "python",
   "nbconvert_exporter": "python",
   "pygments_lexer": "ipython3",
   "version": "3.12.0"
  }
 },
 "nbformat": 4,
 "nbformat_minor": 2
}
